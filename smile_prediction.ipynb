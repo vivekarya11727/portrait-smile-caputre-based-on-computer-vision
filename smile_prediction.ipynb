{
 "cells": [
  {
   "cell_type": "code",
   "execution_count": 10,
   "id": "f61a727e-c45c-4c51-b201-6328166da88b",
   "metadata": {},
   "outputs": [],
   "source": [
    "import cv2\n",
    "\n",
    "video = cv2.VideoCapture(0)\n",
    "faceCascade = cv2.CascadeClassifier(\"dataset/haarcascade_frontalface_default.xml\")\n",
    "smileCascade = cv2.CascadeClassifier(\"dataset/haarcascade_smile.xml\")\n",
    "cnt=0\n",
    "while True:\n",
    "    success,img = video.read()\n",
    "    img = cv2.flip(img, 1)\n",
    "    grayImg = cv2.cvtColor(img, cv2.COLOR_BGR2GRAY)\n",
    "    faces = faceCascade.detectMultiScale(grayImg,1.3,5,minSize = (30,30))\n",
    "    \n",
    "    \n",
    "    for x,y,w,h in faces:\n",
    "        grayImg = cv2.rectangle(grayImg,(x,y),(x+w,y+h),(0,0,0),2)\n",
    "        roi_gry = grayImg[y:y+h, x:x+w]\n",
    "        roi_img = img[y:y+h, x:x+w]\n",
    "        smiles = smileCascade.detectMultiScale(roi_gry,1.9,30,minSize=(25,25))\n",
    "        for x,y,w,h in smiles:\n",
    "            cv2.rectangle(roi_gry,(x,y),(x+w,y+h),(255,255,255),1)\n",
    "            print(\"Image \"+str(cnt)+\"Saved\")\n",
    "            path=r'D:\\camera project\\photos\\img'+str(cnt)+'.jpg'\n",
    "            cv2.imwrite(path,img)\n",
    "            cnt +=1\n",
    "            \n",
    "    if(cnt>=100):\n",
    "        break            \n",
    "    cv2.imshow('live video',img)\n",
    "    cv2.imshow('grayImg', grayImg)\n",
    "    if(cv2.waitKey(40) & 0xFF==ord('p')):\n",
    "        break\n",
    "\n",
    "video.release()                                  \n",
    "cv2.destroyAllWindows() \n"
   ]
  },
  {
   "cell_type": "code",
   "execution_count": null,
   "id": "9fcec55c-736d-484b-984a-9f4a2f3f4e26",
   "metadata": {},
   "outputs": [],
   "source": []
  },
  {
   "cell_type": "code",
   "execution_count": null,
   "id": "f0d0697d-9328-43fb-9564-b4ced15fd755",
   "metadata": {},
   "outputs": [],
   "source": []
  }
 ],
 "metadata": {
  "kernelspec": {
   "display_name": "Python 3 (ipykernel)",
   "language": "python",
   "name": "python3"
  },
  "language_info": {
   "codemirror_mode": {
    "name": "ipython",
    "version": 3
   },
   "file_extension": ".py",
   "mimetype": "text/x-python",
   "name": "python",
   "nbconvert_exporter": "python",
   "pygments_lexer": "ipython3",
   "version": "3.11.7"
  }
 },
 "nbformat": 4,
 "nbformat_minor": 5
}
